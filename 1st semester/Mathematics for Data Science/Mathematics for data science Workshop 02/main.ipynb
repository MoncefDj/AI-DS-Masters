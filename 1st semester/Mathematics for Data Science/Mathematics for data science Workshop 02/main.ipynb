{
 "cells": [
  {
   "cell_type": "markdown",
   "metadata": {},
   "source": [
    "<h1 style=\"border: 2px solid violet; border-radius: 8px; text-align: center; padding: 8px;\" > Mathematics for data science </h1>\n"
   ]
  },
  {
   "cell_type": "code",
   "execution_count": 1,
   "metadata": {},
   "outputs": [],
   "source": [
    "import numpy as np\n",
    "from Mat import Mat"
   ]
  },
  {
   "cell_type": "markdown",
   "metadata": {},
   "source": [
    "**1| `matMulCheck(A,B)`** to check if the product of two given matrices `A` and `B` is possible in a single line of code. Test it with a defined and an undefined case."
   ]
  },
  {
   "cell_type": "code",
   "execution_count": 2,
   "metadata": {},
   "outputs": [
    {
     "name": "stdout",
     "output_type": "stream",
     "text": [
      "Defined case:  True\n",
      "Undefined case:  False\n"
     ]
    }
   ],
   "source": [
    "print(\n",
    "    \"Defined case: \",\n",
    "    Mat.matMulCheck(\n",
    "        np.array([[6, -5, -5, 8], [9, -3, 7, 7]]),\n",
    "        np.array([[0, -7, -7, 6], [5, 3, -5, 2], [6, 6, 0, -4], [3, -5, 0, -10]]),\n",
    "    ),\n",
    ")\n",
    "print(\n",
    "    \"Undefined case: \",\n",
    "    Mat.matMulCheck(\n",
    "        np.array([[6], [3], [1]]),\n",
    "        np.array([[5, -3, -1, -6], [0, 5, -9, -7], [-2, -3, -6, 2], [-9, -4, 0, -6]]),\n",
    "    ),\n",
    ")"
   ]
  },
  {
   "cell_type": "markdown",
   "metadata": {},
   "source": [
    "**2| `matMul(A,B)`** to calculate the dot product of two given matrices only when possible (handle the error using `matMulCheck(A,B)`.) in maximum two lines of code and without using element wise multiplication."
   ]
  },
  {
   "cell_type": "code",
   "execution_count": 3,
   "metadata": {},
   "outputs": [
    {
     "name": "stdout",
     "output_type": "stream",
     "text": [
      "Result:\n",
      "[[ -31 -127  -17  -34]\n",
      " [  48  -65  -48  -50]]\n",
      "Expected result:\n",
      "[[ -31 -127  -17  -34]\n",
      " [  48  -65  -48  -50]]\n"
     ]
    }
   ],
   "source": [
    "print(\"Result:\")\n",
    "print(\n",
    "    Mat.matMul(\n",
    "        np.array([[6, -5, -5, 8], [9, -3, 7, 7]]),\n",
    "        np.array([[0, -7, -7, 6], [5, 3, -5, 2], [6, 6, 0, -4], [3, -5, 0, -10]]),\n",
    "    )\n",
    ")\n",
    "print(\"Expected result:\")\n",
    "print(\n",
    "    np.dot(\n",
    "        np.array([[6, -5, -5, 8], [9, -3, 7, 7]]),\n",
    "        np.array([[0, -7, -7, 6], [5, 3, -5, 2], [6, 6, 0, -4], [3, -5, 0, -10]]),\n",
    "    )\n",
    ")"
   ]
  },
  {
   "cell_type": "markdown",
   "metadata": {},
   "source": [
    "**3| `augmentedMat(A,b)`** to construct the augmented matrix in two different ways."
   ]
  },
  {
   "cell_type": "code",
   "execution_count": 4,
   "metadata": {},
   "outputs": [
    {
     "name": "stdout",
     "output_type": "stream",
     "text": [
      "[[1 2 7]\n",
      " [3 4 8]\n",
      " [5 6 9]]\n",
      "==============\n",
      "[[1 2 7]\n",
      " [3 4 8]\n",
      " [5 6 9]]\n"
     ]
    }
   ],
   "source": [
    "augmented_mat1, augmented_mat2 = Mat.augmentedMat(\n",
    "    np.array([[1, 2], [3, 4], [5, 6]]), np.array([7, 8, 9])\n",
    ")\n",
    "print(augmented_mat1)\n",
    "print(\"==============\")\n",
    "print(augmented_mat2)"
   ]
  },
  {
   "cell_type": "markdown",
   "metadata": {},
   "source": [
    "**4| `solveLinearSystem(A,b)`** to solve a linear system of equations Ax = b given A and b then use `np.linalg.solve()` to check your solution."
   ]
  },
  {
   "cell_type": "code",
   "execution_count": 5,
   "metadata": {},
   "outputs": [
    {
     "name": "stdout",
     "output_type": "stream",
     "text": [
      "Result: [0.40625 0.46875 0.28125]\n",
      "Expected result: [0.40625 0.46875 0.28125]\n"
     ]
    }
   ],
   "source": [
    "print(\n",
    "    \"Result:\",\n",
    "    Mat.solveLinearSystem(\n",
    "        np.array([[2, 1, -1], [4, -1, 3], [3, 5, -2]]), np.array([1, 2, 3])\n",
    "    ),\n",
    ")\n",
    "print(\n",
    "    \"Expected result:\",\n",
    "    np.linalg.solve(\n",
    "        np.array([[2, 1, -1], [4, -1, 3], [3, 5, -2]]), np.array([1, 2, 3])\n",
    "    ),\n",
    ")"
   ]
  },
  {
   "cell_type": "markdown",
   "metadata": {},
   "source": [
    "**5| `isSubspace(S)`** to check if a given set of vectors `S` is a subspace of R<sup>3</sup> use the Gaussian elimination."
   ]
  },
  {
   "cell_type": "code",
   "execution_count": 6,
   "metadata": {},
   "outputs": [
    {
     "name": "stdout",
     "output_type": "stream",
     "text": [
      "Defined case1:  True\n",
      "Undefined case:  False\n"
     ]
    },
    {
     "name": "stderr",
     "output_type": "stream",
     "text": [
      "c:\\Users\\Djezzar Moncef\\Desktop\\moncef\\random\\study\\MML1\\tp\\tp 02\\Mat.py:46: RuntimeWarning: invalid value encountered in scalar divide\n",
      "  factor = A[j, i] / A[i, i]\n"
     ]
    }
   ],
   "source": [
    "print(\"Defined case1: \", Mat.isSubspace(np.array([[1, 0, 0], [0, 1, 0], [0, 0, 1]])))\n",
    "print(\n",
    "    \"Undefined case: \",\n",
    "    Mat.isSubspace(np.array([[1, 2, 3], [4, 5, 6], [7, 8, 9], [10, 11, 12]])),\n",
    ")"
   ]
  },
  {
   "cell_type": "markdown",
   "metadata": {},
   "source": [
    "**6| `det(A)`** to calculate the determinant of a matrix and test it using `np.linalg.solve()`.\n"
   ]
  },
  {
   "cell_type": "code",
   "execution_count": 7,
   "metadata": {},
   "outputs": [
    {
     "name": "stdout",
     "output_type": "stream",
     "text": [
      "Result: 6\n",
      "Expected result: 6.0\n"
     ]
    }
   ],
   "source": [
    "print(\"Result:\", Mat.det(np.array([[2, 4, 3], [1, 3, 3], [3, 3, 3]])))\n",
    "print(\"Expected result:\", np.linalg.det(np.array([[2, 4, 3], [1, 3, 3], [3, 3, 3]])))"
   ]
  }
 ],
 "metadata": {
  "kernelspec": {
   "display_name": "base",
   "language": "python",
   "name": "python3"
  },
  "language_info": {
   "codemirror_mode": {
    "name": "ipython",
    "version": 3
   },
   "file_extension": ".py",
   "mimetype": "text/x-python",
   "name": "python",
   "nbconvert_exporter": "python",
   "pygments_lexer": "ipython3",
   "version": "3.11.5"
  }
 },
 "nbformat": 4,
 "nbformat_minor": 2
}
