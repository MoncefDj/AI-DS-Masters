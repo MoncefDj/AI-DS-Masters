{
 "cells": [
  {
   "cell_type": "code",
   "execution_count": 37,
   "metadata": {},
   "outputs": [],
   "source": [
    "import cv2  # to read images\n",
    "import matplotlib.pyplot as plt  # to display images"
   ]
  },
  {
   "cell_type": "markdown",
   "metadata": {},
   "source": [
    "# 1| Loading `IMG.jpg`"
   ]
  },
  {
   "cell_type": "code",
   "execution_count": 38,
   "metadata": {},
   "outputs": [],
   "source": [
    "IMG = cv2.imread(\"./images/IMG.jpg\")  #  => \"IMG.jpg\" as a numpy array.\n",
    "img = cv2.cvtColor(\n",
    "    IMG, cv2.COLOR_BGR2RGB\n",
    ")  # This line converts the color space of the image from BGR to RGB.\n",
    "img = IMG.tolist()  # Converting the NumPy array IMG to a Python list"
   ]
  },
  {
   "cell_type": "markdown",
   "metadata": {},
   "source": [
    "# 2| Determining the pixel resolution of `IMG.jpg`"
   ]
  },
  {
   "cell_type": "code",
   "execution_count": 39,
   "metadata": {},
   "outputs": [
    {
     "data": {
      "text/plain": [
       "'610 X 480 X 3'"
      ]
     },
     "execution_count": 39,
     "metadata": {},
     "output_type": "execute_result"
    }
   ],
   "source": [
    "def getHeight(image):\n",
    "    return len(image)\n",
    "\n",
    "\n",
    "def getWidth(image):\n",
    "    return len(image[0])\n",
    "\n",
    "\n",
    "def getColorChannels(image):\n",
    "    return len(image[0][0])\n",
    "\n",
    "\n",
    "def getPixelResolution(image):\n",
    "    return (\n",
    "        str(getHeight(image=img))\n",
    "        + \" X \"\n",
    "        + str(getWidth(image=img))\n",
    "        + \" X \"\n",
    "        + str(getColorChannels(image=img))\n",
    "    )\n",
    "\n",
    "\n",
    "getPixelResolution(image=img)  # => height, width, and the number of color channels."
   ]
  },
  {
   "cell_type": "markdown",
   "metadata": {},
   "source": [
    "# 3| the RGB values of the pixel `IMG(10, 15)`"
   ]
  },
  {
   "cell_type": "code",
   "execution_count": 40,
   "metadata": {},
   "outputs": [
    {
     "data": {
      "text/plain": [
       "[41, 20, 0]"
      ]
     },
     "execution_count": 40,
     "metadata": {},
     "output_type": "execute_result"
    }
   ],
   "source": [
    "def getRGB(image, x, y):\n",
    "    return image[x][y]\n",
    "\n",
    "\n",
    "getRGB(image=img, x=10, y=15)"
   ]
  },
  {
   "cell_type": "markdown",
   "metadata": {},
   "source": [
    "# 4| Calculating the average brightness of `IMG.jpg`"
   ]
  },
  {
   "cell_type": "markdown",
   "metadata": {},
   "source": [
    "![average brightness](<images/average brightness.png>)"
   ]
  },
  {
   "cell_type": "code",
   "execution_count": 41,
   "metadata": {},
   "outputs": [],
   "source": [
    "def getAverageBrightness(image):\n",
    "    pass"
   ]
  }
 ],
 "metadata": {
  "kernelspec": {
   "display_name": "Python 3 (ipykernel)",
   "language": "python",
   "name": "python3"
  },
  "language_info": {
   "codemirror_mode": {
    "name": "ipython",
    "version": 3
   },
   "file_extension": ".py",
   "mimetype": "text/x-python",
   "name": "python",
   "nbconvert_exporter": "python",
   "pygments_lexer": "ipython3",
   "version": "3.11.5"
  }
 },
 "nbformat": 4,
 "nbformat_minor": 2
}
