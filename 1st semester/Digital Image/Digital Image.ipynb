{
 "cells": [
  {
   "cell_type": "markdown",
   "metadata": {},
   "source": [
    "<h1 style=\"border: 2px solid cyan; text-align: center; border-radius: 8px; padding: 8px\" > Digital Image </h1>"
   ]
  },
  {
   "cell_type": "markdown",
   "metadata": {},
   "source": [
    "## Importing necessary libraries"
   ]
  },
  {
   "cell_type": "code",
   "execution_count": 17,
   "metadata": {},
   "outputs": [],
   "source": [
    "import cv2  # to read images\n",
    "import matplotlib.pyplot as plt  # to display images\n",
    "import copy # to crete a deep copy of images"
   ]
  },
  {
   "cell_type": "markdown",
   "metadata": {},
   "source": [
    "## 1| Loading `IMG.jpg`"
   ]
  },
  {
   "cell_type": "code",
   "execution_count": 18,
   "metadata": {},
   "outputs": [],
   "source": [
    "IMG = cv2.imread(\"./images/IMG.jpg\")  #  => \"IMG.jpg\" as a numpy array.\n",
    "img = cv2.cvtColor(\n",
    "    IMG, cv2.COLOR_BGR2RGB\n",
    ")  # This line converts the color space of the image from BGR to RGB.\n",
    "img = IMG.tolist()  # Converting the NumPy array IMG to a Python list"
   ]
  },
  {
   "cell_type": "markdown",
   "metadata": {},
   "source": [
    "## 2| Determining the pixel resolution of `IMG`"
   ]
  },
  {
   "cell_type": "code",
   "execution_count": 19,
   "metadata": {},
   "outputs": [
    {
     "data": {
      "text/plain": [
       "'610 X 480 X 3'"
      ]
     },
     "execution_count": 19,
     "metadata": {},
     "output_type": "execute_result"
    }
   ],
   "source": [
    "def getHeight(image):\n",
    "    return len(image)\n",
    "\n",
    "\n",
    "def getWidth(image):\n",
    "    return len(image[0])\n",
    "\n",
    "\n",
    "def getColorChannels(image):\n",
    "    return len(image[0][0])\n",
    "\n",
    "\n",
    "def getPixelResolution(image):\n",
    "    return (\n",
    "        str(getHeight(image=img))\n",
    "        + \" X \"\n",
    "        + str(getWidth(image=img))\n",
    "        + \" X \"\n",
    "        + str(getColorChannels(image=img))\n",
    "    )\n",
    "\n",
    "\n",
    "getPixelResolution(image=img)  # => height, width, and the number of color channels."
   ]
  },
  {
   "cell_type": "markdown",
   "metadata": {},
   "source": [
    "## 3| the RGB values of the pixel `IMG(10, 15)`"
   ]
  },
  {
   "cell_type": "code",
   "execution_count": 20,
   "metadata": {},
   "outputs": [
    {
     "data": {
      "text/plain": [
       "[41, 20, 0]"
      ]
     },
     "execution_count": 20,
     "metadata": {},
     "output_type": "execute_result"
    }
   ],
   "source": [
    "def getRGB(image, x, y):\n",
    "    return image[x][y]\n",
    "\n",
    "\n",
    "getRGB(image=img, x=10, y=15)"
   ]
  },
  {
   "cell_type": "markdown",
   "metadata": {},
   "source": [
    "## 4| Calculating the brightness of `IMG`"
   ]
  },
  {
   "cell_type": "markdown",
   "metadata": {},
   "source": [
    "![average brightness](<images/average brightness.png>)"
   ]
  },
  {
   "cell_type": "code",
   "execution_count": 21,
   "metadata": {},
   "outputs": [
    {
     "name": "stdout",
     "output_type": "stream",
     "text": [
      "Red Average Brightness:  92.00018101092316\n",
      "Green Average Brightness:  63.96951502733377\n",
      "Blue Average Brightness:  54.17469945356442\n"
     ]
    }
   ],
   "source": [
    "def getAverageBrightness(image, colorChannel):\n",
    "    m = getHeight(image=image)\n",
    "    n = getWidth(image=image)\n",
    "    brightness = 0\n",
    "    for i in range(0, m):\n",
    "        for j in range(0, n):\n",
    "            brightness += image[i][j][colorChannel] / (m * n)\n",
    "\n",
    "    return brightness\n",
    "\n",
    "\n",
    "print(\"Red Average Brightness: \", getAverageBrightness(image=img, colorChannel=0))\n",
    "print(\"Green Average Brightness: \", getAverageBrightness(image=img, colorChannel=1))\n",
    "print(\"Blue Average Brightness: \", getAverageBrightness(image=img, colorChannel=2))"
   ]
  },
  {
   "cell_type": "markdown",
   "metadata": {},
   "source": [
    "## 5| Calculating the average contrast of `IMG`"
   ]
  },
  {
   "cell_type": "code",
   "execution_count": 22,
   "metadata": {},
   "outputs": [
    {
     "name": "stdout",
     "output_type": "stream",
     "text": [
      "Red Average Contrast:  251\n",
      "Green Average Contrast:  250\n",
      "Blue Average Contrast:  247\n"
     ]
    }
   ],
   "source": [
    "def getAverageContrast(image, colorChannel):\n",
    "    m = getHeight(image=image)\n",
    "    n = getWidth(image=image)\n",
    "    max = image[0][0][0]\n",
    "    min = image[0][0][0]\n",
    "    for i in range(0, m):\n",
    "        for j in range(0, n):\n",
    "            if max < image[i][j][colorChannel]:\n",
    "                max = image[i][j][colorChannel]\n",
    "            if min > image[i][j][colorChannel]:\n",
    "                min = image[i][j][colorChannel]\n",
    "\n",
    "    return max - min\n",
    "\n",
    "\n",
    "print(\"Red Average Contrast: \", getAverageContrast(image=img, colorChannel=0))\n",
    "print(\"Green Average Contrast: \", getAverageContrast(image=img, colorChannel=1))\n",
    "print(\"Blue Average Contrast: \", getAverageContrast(image=img, colorChannel=2))"
   ]
  },
  {
   "cell_type": "markdown",
   "metadata": {},
   "source": [
    "## 6| Showing the RGB channels of `IMG` separately"
   ]
  },
  {
   "cell_type": "code",
   "execution_count": 23,
   "metadata": {},
   "outputs": [
    {
     "data": {
      "image/png": "[encoded data removed]",
      "text/plain": [
       "<Figure size 640x480 with 1 Axes>"
      ]
     },
     "metadata": {},
     "output_type": "display_data"
    }
   ],
   "source": [
    "def showChannel(image, colorChannel):\n",
    "    m = getHeight(image=image)\n",
    "    n = getWidth(image=image)\n",
    "    o = getColorChannels(image=image)\n",
    "    tmp = copy.deepcopy(image)\n",
    "    for i in range(0, m):\n",
    "        for j in range(0, n):\n",
    "            for k in range(0, o):\n",
    "                if k != colorChannel:\n",
    "                    tmp[i][j][k] = 0\n",
    "    plt.imshow(tmp)\n",
    "    plt.show()\n",
    "\n",
    "\n",
    "showChannel(image=img, colorChannel=0)\n",
    "showChannel(image=img, colorChannel=1)\n",
    "showChannel(image=img, colorChannel=2)"
   ]
  },
  {
   "cell_type": "markdown",
   "metadata": {},
   "source": [
    "## 7| Converting `IMG` to gray-level using the average method"
   ]
  },
  {
   "cell_type": "code",
   "execution_count": null,
   "metadata": {},
   "outputs": [],
   "source": []
  },
  {
   "cell_type": "markdown",
   "metadata": {},
   "source": [
    "## 8| Converting `IMG` to gray-level using the weighted formula"
   ]
  },
  {
   "cell_type": "code",
   "execution_count": null,
   "metadata": {},
   "outputs": [],
   "source": [
    "# (using loops, then without loop and finally using python instruction)\n",
    "# let us denote the intensity IMG by IMG2 "
   ]
  },
  {
   "cell_type": "markdown",
   "metadata": {},
   "source": [
    "## 9| Determine the min / max value of `IMG` and `IMG2`"
   ]
  },
  {
   "cell_type": "code",
   "execution_count": null,
   "metadata": {},
   "outputs": [],
   "source": []
  },
  {
   "cell_type": "markdown",
   "metadata": {},
   "source": [
    "## 10|  Calculating the pixel resolution of `IMG` and `IMG2`"
   ]
  },
  {
   "cell_type": "code",
   "execution_count": null,
   "metadata": {},
   "outputs": [],
   "source": [
    "# in terms of MegaPixel"
   ]
  },
  {
   "cell_type": "markdown",
   "metadata": {},
   "source": [
    "## 11| A function to calculate the size of `IMG`"
   ]
  },
  {
   "cell_type": "code",
   "execution_count": null,
   "metadata": {},
   "outputs": [],
   "source": []
  },
  {
   "cell_type": "markdown",
   "metadata": {},
   "source": [
    "## 12| Extracting a sub-image from `IMG`"
   ]
  },
  {
   "cell_type": "code",
   "execution_count": null,
   "metadata": {},
   "outputs": [],
   "source": [
    "# Extract SUB_IMG the sub-image from IMG by cropping IMG from line 50 to 70, and \n",
    "# from column 20 to 90. Display the two images"
   ]
  },
  {
   "cell_type": "markdown",
   "metadata": {},
   "source": [
    "## 13| Quantizing `IMG2` to `128, 64, 32` levels and displaying it"
   ]
  },
  {
   "cell_type": "code",
   "execution_count": null,
   "metadata": {},
   "outputs": [],
   "source": []
  },
  {
   "cell_type": "markdown",
   "metadata": {},
   "source": [
    "## 14| Converting `IMG` from RGB to the different color spaces HSV, CMYK and YCbCr"
   ]
  },
  {
   "cell_type": "code",
   "execution_count": null,
   "metadata": {},
   "outputs": [],
   "source": []
  },
  {
   "cell_type": "markdown",
   "metadata": {},
   "source": [
    "## 15| Binarizing `IMG2` according to `10, 50, 125, 25` as threshold "
   ]
  },
  {
   "cell_type": "code",
   "execution_count": null,
   "metadata": {},
   "outputs": [],
   "source": []
  },
  {
   "cell_type": "markdown",
   "metadata": {},
   "source": [
    "## 16| Calculating the complementary image of `IMG2` and its binarized version"
   ]
  },
  {
   "cell_type": "code",
   "execution_count": null,
   "metadata": {},
   "outputs": [],
   "source": []
  },
  {
   "cell_type": "markdown",
   "metadata": {},
   "source": [
    "## 17| Adding (and subtracting) the following values `10, 30,60, 200` from `IMG2`"
   ]
  },
  {
   "cell_type": "code",
   "execution_count": null,
   "metadata": {},
   "outputs": [],
   "source": []
  },
  {
   "cell_type": "markdown",
   "metadata": {},
   "source": [
    "## 18| Increasing / decreasing image brightness by multiplying `IMG2` by `1.7` and `0.6`, respectively"
   ]
  },
  {
   "cell_type": "code",
   "execution_count": null,
   "metadata": {},
   "outputs": [],
   "source": []
  },
  {
   "cell_type": "markdown",
   "metadata": {},
   "source": [
    "## 19| Devising the image by `2` and `0.5`, respectively"
   ]
  },
  {
   "cell_type": "code",
   "execution_count": null,
   "metadata": {},
   "outputs": [],
   "source": []
  },
  {
   "cell_type": "markdown",
   "metadata": {},
   "source": [
    "## 20| Loading `IMG3`"
   ]
  },
  {
   "cell_type": "code",
   "execution_count": null,
   "metadata": {},
   "outputs": [],
   "source": [
    "# Load another image from your choice (IMG3)"
   ]
  },
  {
   "cell_type": "markdown",
   "metadata": {},
   "source": [
    "## 21|  Calculating the min / max of `(IMG2, IMG3)`"
   ]
  },
  {
   "cell_type": "code",
   "execution_count": null,
   "metadata": {},
   "outputs": [],
   "source": []
  },
  {
   "cell_type": "markdown",
   "metadata": {},
   "source": [
    "## 22| Combining `IMG2` and `IMG3` linearly using `(0.1, 0.9), (0.5, 0.5),(0.9, 0.1)`"
   ]
  },
  {
   "cell_type": "code",
   "execution_count": null,
   "metadata": {},
   "outputs": [],
   "source": []
  },
  {
   "cell_type": "markdown",
   "metadata": {},
   "source": [
    "## 23| Creating two images containing squares"
   ]
  },
  {
   "cell_type": "code",
   "execution_count": null,
   "metadata": {},
   "outputs": [],
   "source": [
    "# (the intersection of squares is not zero)"
   ]
  },
  {
   "cell_type": "markdown",
   "metadata": {},
   "source": [
    "## 24| Performing the following logical operations: AND, OR, XOR, XNOR on the two image square"
   ]
  },
  {
   "cell_type": "code",
   "execution_count": null,
   "metadata": {},
   "outputs": [],
   "source": []
  },
  {
   "cell_type": "markdown",
   "metadata": {},
   "source": [
    "## 25| Generating two other binary images containing arbitrary shapes"
   ]
  },
  {
   "cell_type": "code",
   "execution_count": null,
   "metadata": {},
   "outputs": [],
   "source": []
  },
  {
   "cell_type": "markdown",
   "metadata": {},
   "source": [
    "## 26| Performing the following operations: erosion, dilation, opening and closing on the image using a 3*3 square binary image as a structural element"
   ]
  },
  {
   "cell_type": "code",
   "execution_count": null,
   "metadata": {},
   "outputs": [],
   "source": []
  },
  {
   "cell_type": "markdown",
   "metadata": {},
   "source": [
    "## 27| Generating the gray-level histogram of `IMG2`"
   ]
  },
  {
   "cell_type": "code",
   "execution_count": null,
   "metadata": {},
   "outputs": [],
   "source": []
  },
  {
   "cell_type": "markdown",
   "metadata": {},
   "source": [
    "## 28| Adding 70 to all the image pixels, and comparing the histogram before and after"
   ]
  },
  {
   "cell_type": "code",
   "execution_count": null,
   "metadata": {},
   "outputs": [],
   "source": []
  },
  {
   "cell_type": "markdown",
   "metadata": {},
   "source": [
    "## 29|  Loading a low contrast image `IMG4`"
   ]
  },
  {
   "cell_type": "code",
   "execution_count": null,
   "metadata": {},
   "outputs": [],
   "source": [
    "#  Load a low contrast image from your choice (IMG4)"
   ]
  },
  {
   "cell_type": "markdown",
   "metadata": {},
   "source": [
    "## 30| Applying the histogram stretching (the two formulas of course), and showing the histogram before and after each process"
   ]
  },
  {
   "cell_type": "code",
   "execution_count": null,
   "metadata": {},
   "outputs": [],
   "source": []
  },
  {
   "cell_type": "markdown",
   "metadata": {},
   "source": [
    "## 31| Applying Gamma correction on `IMG2`, where the values of Gamma are: `1.5, 4.2, 2.1`"
   ]
  },
  {
   "cell_type": "code",
   "execution_count": null,
   "metadata": {},
   "outputs": [],
   "source": []
  },
  {
   "cell_type": "markdown",
   "metadata": {},
   "source": [
    "## 32| Applying the algorithm of histogram equalization on `IMG4`, and showing the histogram before and after"
   ]
  },
  {
   "cell_type": "code",
   "execution_count": null,
   "metadata": {},
   "outputs": [],
   "source": [
    "# Apply the algorithm of histogram equalization on IMG4, and show the histogram \n",
    "# before and after this is done (choose the suitable Lmax based on the first histogram)."
   ]
  },
  {
   "cell_type": "markdown",
   "metadata": {},
   "source": [
    "## 33|  Loading `IMG5`"
   ]
  },
  {
   "cell_type": "code",
   "execution_count": null,
   "metadata": {},
   "outputs": [],
   "source": [
    "# Load an image from your choice (IMG5)"
   ]
  },
  {
   "cell_type": "markdown",
   "metadata": {},
   "source": [
    "## 34| Adding a salt, pepper, salt-pepper, Gaussian noise to `IMG5`\n"
   ]
  },
  {
   "cell_type": "code",
   "execution_count": null,
   "metadata": {},
   "outputs": [],
   "source": []
  },
  {
   "cell_type": "markdown",
   "metadata": {},
   "source": [
    "## 35|  Applying mean and Gaussian filters on the noisy versions of `IMG5`"
   ]
  },
  {
   "cell_type": "code",
   "execution_count": null,
   "metadata": {},
   "outputs": [],
   "source": [
    "# (vary the parameters)"
   ]
  },
  {
   "cell_type": "markdown",
   "metadata": {},
   "source": [
    "## 36| Applying the median filter with a neighborhood of `3,5` and `7`, respectively.\n"
   ]
  },
  {
   "cell_type": "code",
   "execution_count": null,
   "metadata": {},
   "outputs": [],
   "source": []
  },
  {
   "cell_type": "markdown",
   "metadata": {},
   "source": [
    "## 37| Applying Sobel operator on `IMG5`, and showing the horizontal, vertical and the final edge"
   ]
  },
  {
   "cell_type": "code",
   "execution_count": null,
   "metadata": {},
   "outputs": [],
   "source": []
  },
  {
   "cell_type": "markdown",
   "metadata": {},
   "source": [
    "## 38|  Showing the gradient magnitude image of `IMG5`, and threshold it using `10, 50, 120, 190` and showing the resulting images"
   ]
  },
  {
   "cell_type": "code",
   "execution_count": null,
   "metadata": {},
   "outputs": [],
   "source": []
  },
  {
   "cell_type": "markdown",
   "metadata": {},
   "source": [
    "## 39|  Showing the edge image in which the pixels kept only with the maximum of gradient in the gradient direction"
   ]
  },
  {
   "cell_type": "code",
   "execution_count": null,
   "metadata": {},
   "outputs": [],
   "source": []
  },
  {
   "cell_type": "markdown",
   "metadata": {},
   "source": [
    "## 40| Detecting the edges in `IMG5` using Laplacian of Gaussian"
   ]
  },
  {
   "cell_type": "code",
   "execution_count": null,
   "metadata": {},
   "outputs": [],
   "source": []
  },
  {
   "cell_type": "markdown",
   "metadata": {},
   "source": [
    "## 41| Detect the edges in IMG5 using canny algorithm"
   ]
  },
  {
   "cell_type": "code",
   "execution_count": null,
   "metadata": {},
   "outputs": [],
   "source": []
  }
 ],
 "metadata": {
  "kernelspec": {
   "display_name": "Python 3 (ipykernel)",
   "language": "python",
   "name": "python3"
  },
  "language_info": {
   "codemirror_mode": {
    "name": "ipython",
    "version": 3
   },
   "file_extension": ".py",
   "mimetype": "text/x-python",
   "name": "python",
   "nbconvert_exporter": "python",
   "pygments_lexer": "ipython3",
   "version": "3.11.5"
  }
 },
 "nbformat": 4,
 "nbformat_minor": 4
}
