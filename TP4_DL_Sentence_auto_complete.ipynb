{
  "cells": [
    {
      "cell_type": "markdown",
      "metadata": {
        "id": "view-in-github",
        "colab_type": "text"
      },
      "source": [
        "<a href=\"https://colab.research.google.com/github/MoncefDj/AI-DS-Masters/blob/main/TP4_DL_Sentence_auto_complete.ipynb\" target=\"_parent\"><img src=\"https://colab.research.google.com/assets/colab-badge.svg\" alt=\"Open In Colab\"/></a>"
      ]
    },
    {
      "cell_type": "markdown",
      "metadata": {
        "id": "kxTgc3IoH6P4"
      },
      "source": [
        "# Lab 04: Sentence auto-complete with `LSTMs`"
      ]
    },
    {
      "cell_type": "code",
      "execution_count": null,
      "metadata": {
        "id": "7TGpnt3hwLSH"
      },
      "outputs": [],
      "source": [
        "import os\n",
        "import pandas as pd\n",
        "import numpy as np\n",
        "import tensorflow as tf\n",
        "from tensorflow.keras.preprocessing.sequence import pad_sequences\n",
        "from tensorflow.keras.layers import Embedding, LSTM, Dense, Bidirectional\n",
        "from tensorflow.keras.preprocessing.text import Tokenizer\n",
        "from tensorflow.keras.models import Sequential\n",
        "from tensorflow.keras.optimizers import Adam\n",
        "import nltk\n",
        "import re"
      ]
    },
    {
      "cell_type": "markdown",
      "metadata": {
        "id": "5jzdaFjJwLSF"
      },
      "source": [
        "## Upload Dataset"
      ]
    },
    {
      "cell_type": "code",
      "execution_count": null,
      "metadata": {
        "id": "eX_CDiHkwLSK"
      },
      "outputs": [],
      "source": [
        "# Specify the filename\n",
        "input_file = '/content/data.txt'\n",
        "\n",
        "# Read the contents of the file\n",
        "with open(input_file, 'r', encoding='utf-8') as infile:\n",
        "    data = infile.read()"
      ]
    },
    {
      "cell_type": "code",
      "execution_count": null,
      "metadata": {
        "colab": {
          "base_uri": "https://localhost:8080/",
          "height": 140
        },
        "id": "a0iwsLBPwLSL",
        "outputId": "79667649-2438-4ad9-929d-86a9d83570ca"
      },
      "outputs": [
        {
          "output_type": "execute_result",
          "data": {
            "text/plain": [
              "\"The Project Gutenberg eBook of Rena's experiment\\n    \\nThis ebook is for the use of anyone anywhere in the United States and\\nmost other parts of the world at no cost and with almost no restrictions\\nwhatsoever. You may copy it, give it away or re-use it under the terms\\nof the Project Gutenberg License included with this ebook or online\\nat www.gutenberg.org. If you are not located in the United States,\\nyou will have to check the laws of the country where you are located\\nbefore using this eBook.\\n\\nTitle: Rena's experiment\\n\\nAuthor: Mary Jane Holmes\\n\\nRelease date: December 13, 2024 [eBook #74886]\\n\\nLanguage: English\\n\\nOriginal publication: United States: G. W. Dillingham Company\\n\\nCredits: Richard Tonsing and the Online Distributed Proofreading Team at https://www.pgdp.net (This book was produced from images made available by the HathiTrust Digital Library.)\\n\\n\\n*** START OF THE PROJECT GUTENBERG EBOOK RENA'S EXPERIMENT ***\\n\\n\\n[Illustration:\\n\\n  The figure standing close behind him scarcely breathed\""
            ],
            "application/vnd.google.colaboratory.intrinsic+json": {
              "type": "string"
            }
          },
          "metadata": {},
          "execution_count": 55
        }
      ],
      "source": [
        "(data)[:1000] # view first few characters"
      ]
    },
    {
      "cell_type": "code",
      "source": [
        "print(len(data))\n",
        "data = data[:200000]"
      ],
      "metadata": {
        "colab": {
          "base_uri": "https://localhost:8080/"
        },
        "id": "6jHaR-NiqzK9",
        "outputId": "4fecbfe2-efbc-429b-c90b-9838cbc5555b"
      },
      "execution_count": null,
      "outputs": [
        {
          "output_type": "stream",
          "name": "stdout",
          "text": [
            "407781\n"
          ]
        }
      ]
    },
    {
      "cell_type": "markdown",
      "metadata": {
        "id": "YagZ-Ye-wLSM"
      },
      "source": [
        "## Data Cleaning and Tokenization"
      ]
    },
    {
      "cell_type": "code",
      "execution_count": null,
      "metadata": {
        "id": "M8RwJMqfwLSN"
      },
      "outputs": [],
      "source": [
        "# Function to remove emojis and special characters from text\n",
        "def remove_emojis_and_special_characters(text):\n",
        "    # Remove emojis\n",
        "    emoji_pattern = re.compile(\"[\"\n",
        "                               u\"\\U0001F600-\\U0001F64F\"  # emoticons\n",
        "                               u\"\\U0001F300-\\U0001F5FF\"  # symbols & pictographs\n",
        "                               u\"\\U0001F680-\\U0001F6FF\"  # transport & map symbols\n",
        "                               u\"\\U0001F700-\\U0001F77F\"  # alchemical symbols\n",
        "                               u\"\\U0001F780-\\U0001F7FF\"  # Geometric Shapes Extended\n",
        "                               u\"\\U0001F800-\\U0001F8FF\"  # Supplemental Arrows-C\n",
        "                               u\"\\U0001F900-\\U0001F9FF\"  # Supplemental Symbols and Pictographs\n",
        "                               u\"\\U0001FA00-\\U0001FA6F\"  # Chess Symbols\n",
        "                               u\"\\U0001FA70-\\U0001FAFF\"  # Symbols and Pictographs Extended-A\n",
        "                               u\"\\U00002702-\\U000027B0\"  # Dingbats\n",
        "                               u\"\\U000024C2-\\U0001F251\"\n",
        "                               \"]+\", flags=re.UNICODE)\n",
        "\n",
        "    # Remove special characters\n",
        "    text = re.sub(r'[^a-zA-Z0-9\\s]', '', text)\n",
        "\n",
        "    # Remove extra spaces\n",
        "    text = re.sub(' +', ' ', text)\n",
        "\n",
        "    return text"
      ]
    },
    {
      "cell_type": "code",
      "execution_count": null,
      "metadata": {
        "colab": {
          "base_uri": "https://localhost:8080/"
        },
        "id": "fJU_quOjwLSO",
        "outputId": "c4daecc6-e7d9-4261-9fb0-dc7eb884b260"
      },
      "outputs": [
        {
          "output_type": "execute_result",
          "data": {
            "text/plain": [
              "['the project gutenberg ebook of renas experiment',\n",
              " 'this ebook is for the use of anyone anywhere in the united states and',\n",
              " 'most other parts of the world at no cost and with almost no restrictions',\n",
              " 'whatsoever you may copy it give it away or reuse it under the terms',\n",
              " 'of the project gutenberg license included with this ebook or online',\n",
              " 'at wwwgutenbergorg if you are not located in the united states',\n",
              " 'you will have to check the laws of the country where you are located',\n",
              " 'before using this ebook',\n",
              " 'title renas experiment',\n",
              " 'author mary jane holmes']"
            ]
          },
          "metadata": {},
          "execution_count": 59
        }
      ],
      "source": [
        "# Preprocessing pipeline\n",
        "def preprocess_pipeline(data) -> 'list':\n",
        "    # Split by newline character\n",
        "    sentences = data.split('\\n')\n",
        "    for i in range(len(sentences)):\n",
        "        sentences[i] = remove_emojis_and_special_characters(sentences[i])\n",
        "    # Remove leading and trailing spaces\n",
        "    sentences = [s.strip() for s in sentences]\n",
        "    # Drop empty sentences\n",
        "    sentences = [s for s in sentences if len(s) > 0]\n",
        "    # Tokenization\n",
        "    tokenized = []\n",
        "    for sentence in sentences:\n",
        "        # Convert to lowercase\n",
        "        sentence = sentence.lower()\n",
        "        tokenized.append(sentence)\n",
        "    return tokenized\n",
        "\n",
        "# Tokenize sentences\n",
        "tokenized_sentences = preprocess_pipeline(data)\n",
        "tokenized_sentences[:10]"
      ]
    },
    {
      "cell_type": "code",
      "execution_count": null,
      "metadata": {
        "id": "xWlxf7MtwLSP"
      },
      "outputs": [],
      "source": [
        "\"\"\"\n",
        "What is an OOV Token?\n",
        "An out-of-vocabulary (OOV) token is a special token used in natural language processing (NLP) tasks to represent words that\n",
        "are not present in the vocabulary of the model or tokenizer. When a word that is not in the vocabulary is encountered during\n",
        "tokenization or text processing, it is replaced with the OOV token.\n",
        "\n",
        "Why Use an OOV Token?\n",
        "Using an OOV token helps handle unseen or unknown words during the training or inference phase of an NLP model.\n",
        "Instead of encountering errors or issues when encountering unknown words, the model can gracefully handle them by\n",
        "representing them with the OOV token. This is particularly useful when working with real-world data where the vocabulary\n",
        "of the model may not cover all possible words.\n",
        "\"\"\"\n",
        "# Tokenize words\n",
        "tokenizer = Tokenizer(oov_token='<oov>')\n",
        "tokenizer.fit_on_texts(tokenized_sentences)\n",
        "total_words = len(tokenizer.word_index) + 1\n",
        "# tokenizer.word_counts\n",
        "# tokenizer.word_index\n",
        "\"\"\"\n",
        "n_gram example:\n",
        "[3, 15, 8, 7, 20, 12, 6]\n",
        "\n",
        "For the above sentece sentence, the code would generate the following n-gram sequences:\n",
        "\n",
        "[3, 15]\n",
        "[3, 15, 8]\n",
        "[3, 15, 8, 7]\n",
        "[3, 15, 8, 7, 20]\n",
        "[3, 15, 8, 7, 20, 12]\n",
        "[3, 15, 8, 7, 20, 12, 6]\n",
        "\"\"\"\n",
        "\n",
        "# Generate input sequences\n",
        "input_sequences = []\n",
        "for line in tokenized_sentences:\n",
        "    token_list = tokenizer.texts_to_sequences([line])[0]\n",
        "    for i in range(1, len(token_list)):\n",
        "        n_gram_sequence = token_list[:i + 1]\n",
        "        input_sequences.append(n_gram_sequence)\n",
        "\n",
        "# Pad sequences\n",
        "max_sequence_len = max([len(x) for x in input_sequences])\n",
        "input_sequences = np.array(pad_sequences(input_sequences, maxlen=max_sequence_len, padding='pre'))"
      ]
    },
    {
      "cell_type": "code",
      "execution_count": null,
      "metadata": {
        "id": "7qk10N7-wLSQ"
      },
      "outputs": [],
      "source": [
        "# Creates labels with input sequences\n",
        "X,labels = input_sequences[:,:-1],input_sequences[:,-1]\n",
        "ys = tf.keras.utils.to_categorical(labels, num_classes=total_words)"
      ]
    },
    {
      "cell_type": "markdown",
      "metadata": {
        "id": "YRhKGFdVKh6f"
      },
      "source": [
        "## Split Dataset"
      ]
    },
    {
      "cell_type": "code",
      "execution_count": null,
      "metadata": {
        "id": "y9hUvmxwwLSR"
      },
      "outputs": [],
      "source": [
        "# Split data into training, validation, and test sets\n",
        "from sklearn.model_selection import train_test_split\n",
        "X_train_temp, X_val_test, y_train_temp, y_val_test = train_test_split(X, ys, test_size=0.05, random_state=42)\n",
        "X_val, X_test, y_val, y_test = train_test_split(X_val_test, y_val_test, test_size=0.5, random_state=42)"
      ]
    },
    {
      "cell_type": "markdown",
      "metadata": {
        "id": "890l41wbPJKH"
      },
      "source": [
        "## LSTM Architecture"
      ]
    },
    {
      "cell_type": "code",
      "execution_count": null,
      "metadata": {
        "id": "M3xflVBrPMhX"
      },
      "outputs": [],
      "source": [
        "from tensorflow.keras.layers import Dropout\n",
        "\n",
        "# Define your model\n",
        "model = Sequential()\n",
        "model.add(Embedding(total_words, 250))  # Increased embedding dimensions\n",
        "model.add(Bidirectional(LSTM(256)))  # Increased LSTM units\n",
        "model.add(Dropout(0.4))  # Added dropout for regularization\n",
        "model.add(Dense(total_words, activation='softmax'))\n",
        "\n",
        "adam = Adam(learning_rate=0.005)  # Adjusted learning rate\n",
        "model.compile(loss='categorical_crossentropy', optimizer=adam, metrics=['accuracy'])"
      ]
    },
    {
      "cell_type": "code",
      "source": [
        "from tensorflow.keras.utils import plot_model\n",
        "from tensorflow.keras.models import Sequential\n",
        "from tensorflow.keras.layers import Embedding, Bidirectional, LSTM, Dropout, Dense\n",
        "from tensorflow.keras.optimizers import Adam\n",
        "\n",
        "# Generate a visual diagram of the model\n",
        "plot_model(\n",
        "    model,\n",
        "    to_file='model_architecture.png',  # Saves the image to this file\n",
        "    show_shapes=True,  # Displays input/output shapes\n",
        "    show_layer_names=True,  # Displays layer names\n",
        "    dpi=96  # Image resolution\n",
        ")\n"
      ],
      "metadata": {
        "colab": {
          "base_uri": "https://localhost:8080/",
          "height": 620
        },
        "id": "HcopgtscUZkl",
        "outputId": "a3ce446a-87ec-4047-88cd-acd8cd4729ce"
      },
      "execution_count": null,
      "outputs": [
        {
          "output_type": "execute_result",
          "data": {
            "image/png": "[encoded data removed]",
            "text/plain": [
              "<IPython.core.display.Image object>"
            ]
          },
          "metadata": {},
          "execution_count": 86
        }
      ]
    },
    {
      "cell_type": "markdown",
      "source": [
        "##Input Size\n",
        "Embedding Layer: The input to the LSTM is first passed through an `Embedding` layer. This layer converts the input sequence of word indices into dense vectors of a fixed size (250 in this case).\n",
        "\n",
        "LSTM Layer: The output of the Embedding layer is then fed to the LSTM layer. Since the Embedding layer produces vectors of size 250, this becomes the input size for the LSTM.\n",
        "\n",
        "##LSTM Type\n",
        "`Many-to-One`"
      ],
      "metadata": {
        "id": "CEpoMCHZWd6B"
      }
    },
    {
      "cell_type": "markdown",
      "metadata": {
        "id": "K47h51JOPVI6"
      },
      "source": [
        "## Model Summary"
      ]
    },
    {
      "cell_type": "code",
      "execution_count": null,
      "metadata": {
        "colab": {
          "base_uri": "https://localhost:8080/",
          "height": 273
        },
        "id": "4DOEBAxtPWSR",
        "outputId": "dd91a6f1-72bd-4b14-8c04-3a2ae1a7a544"
      },
      "outputs": [
        {
          "output_type": "display_data",
          "data": {
            "text/plain": [
              "\u001b[1mModel: \"sequential_8\"\u001b[0m\n"
            ],
            "text/html": [
              "<pre style=\"white-space:pre;overflow-x:auto;line-height:normal;font-family:Menlo,'DejaVu Sans Mono',consolas,'Courier New',monospace\"><span style=\"font-weight: bold\">Model: \"sequential_8\"</span>\n",
              "</pre>\n"
            ]
          },
          "metadata": {}
        },
        {
          "output_type": "display_data",
          "data": {
            "text/plain": [
              "┏━━━━━━━━━━━━━━━━━━━━━━━━━━━━━━━━━━━━━━┳━━━━━━━━━━━━━━━━━━━━━━━━━━━━━┳━━━━━━━━━━━━━━━━━┓\n",
              "┃\u001b[1m \u001b[0m\u001b[1mLayer (type)                        \u001b[0m\u001b[1m \u001b[0m┃\u001b[1m \u001b[0m\u001b[1mOutput Shape               \u001b[0m\u001b[1m \u001b[0m┃\u001b[1m \u001b[0m\u001b[1m        Param #\u001b[0m\u001b[1m \u001b[0m┃\n",
              "┡━━━━━━━━━━━━━━━━━━━━━━━━━━━━━━━━━━━━━━╇━━━━━━━━━━━━━━━━━━━━━━━━━━━━━╇━━━━━━━━━━━━━━━━━┩\n",
              "│ embedding_8 (\u001b[38;5;33mEmbedding\u001b[0m)              │ (\u001b[38;5;45mNone\u001b[0m, \u001b[38;5;34m23\u001b[0m, \u001b[38;5;34m250\u001b[0m)             │       \u001b[38;5;34m1,013,000\u001b[0m │\n",
              "├──────────────────────────────────────┼─────────────────────────────┼─────────────────┤\n",
              "│ bidirectional_10 (\u001b[38;5;33mBidirectional\u001b[0m)     │ (\u001b[38;5;45mNone\u001b[0m, \u001b[38;5;34m512\u001b[0m)                 │       \u001b[38;5;34m1,038,336\u001b[0m │\n",
              "├──────────────────────────────────────┼─────────────────────────────┼─────────────────┤\n",
              "│ dropout_8 (\u001b[38;5;33mDropout\u001b[0m)                  │ (\u001b[38;5;45mNone\u001b[0m, \u001b[38;5;34m512\u001b[0m)                 │               \u001b[38;5;34m0\u001b[0m │\n",
              "├──────────────────────────────────────┼─────────────────────────────┼─────────────────┤\n",
              "│ dense_8 (\u001b[38;5;33mDense\u001b[0m)                      │ (\u001b[38;5;45mNone\u001b[0m, \u001b[38;5;34m4052\u001b[0m)                │       \u001b[38;5;34m2,078,676\u001b[0m │\n",
              "└──────────────────────────────────────┴─────────────────────────────┴─────────────────┘\n"
            ],
            "text/html": [
              "<pre style=\"white-space:pre;overflow-x:auto;line-height:normal;font-family:Menlo,'DejaVu Sans Mono',consolas,'Courier New',monospace\">┏━━━━━━━━━━━━━━━━━━━━━━━━━━━━━━━━━━━━━━┳━━━━━━━━━━━━━━━━━━━━━━━━━━━━━┳━━━━━━━━━━━━━━━━━┓\n",
              "┃<span style=\"font-weight: bold\"> Layer (type)                         </span>┃<span style=\"font-weight: bold\"> Output Shape                </span>┃<span style=\"font-weight: bold\">         Param # </span>┃\n",
              "┡━━━━━━━━━━━━━━━━━━━━━━━━━━━━━━━━━━━━━━╇━━━━━━━━━━━━━━━━━━━━━━━━━━━━━╇━━━━━━━━━━━━━━━━━┩\n",
              "│ embedding_8 (<span style=\"color: #0087ff; text-decoration-color: #0087ff\">Embedding</span>)              │ (<span style=\"color: #00d7ff; text-decoration-color: #00d7ff\">None</span>, <span style=\"color: #00af00; text-decoration-color: #00af00\">23</span>, <span style=\"color: #00af00; text-decoration-color: #00af00\">250</span>)             │       <span style=\"color: #00af00; text-decoration-color: #00af00\">1,013,000</span> │\n",
              "├──────────────────────────────────────┼─────────────────────────────┼─────────────────┤\n",
              "│ bidirectional_10 (<span style=\"color: #0087ff; text-decoration-color: #0087ff\">Bidirectional</span>)     │ (<span style=\"color: #00d7ff; text-decoration-color: #00d7ff\">None</span>, <span style=\"color: #00af00; text-decoration-color: #00af00\">512</span>)                 │       <span style=\"color: #00af00; text-decoration-color: #00af00\">1,038,336</span> │\n",
              "├──────────────────────────────────────┼─────────────────────────────┼─────────────────┤\n",
              "│ dropout_8 (<span style=\"color: #0087ff; text-decoration-color: #0087ff\">Dropout</span>)                  │ (<span style=\"color: #00d7ff; text-decoration-color: #00d7ff\">None</span>, <span style=\"color: #00af00; text-decoration-color: #00af00\">512</span>)                 │               <span style=\"color: #00af00; text-decoration-color: #00af00\">0</span> │\n",
              "├──────────────────────────────────────┼─────────────────────────────┼─────────────────┤\n",
              "│ dense_8 (<span style=\"color: #0087ff; text-decoration-color: #0087ff\">Dense</span>)                      │ (<span style=\"color: #00d7ff; text-decoration-color: #00d7ff\">None</span>, <span style=\"color: #00af00; text-decoration-color: #00af00\">4052</span>)                │       <span style=\"color: #00af00; text-decoration-color: #00af00\">2,078,676</span> │\n",
              "└──────────────────────────────────────┴─────────────────────────────┴─────────────────┘\n",
              "</pre>\n"
            ]
          },
          "metadata": {}
        },
        {
          "output_type": "display_data",
          "data": {
            "text/plain": [
              "\u001b[1m Total params: \u001b[0m\u001b[38;5;34m12,390,038\u001b[0m (47.26 MB)\n"
            ],
            "text/html": [
              "<pre style=\"white-space:pre;overflow-x:auto;line-height:normal;font-family:Menlo,'DejaVu Sans Mono',consolas,'Courier New',monospace\"><span style=\"font-weight: bold\"> Total params: </span><span style=\"color: #00af00; text-decoration-color: #00af00\">12,390,038</span> (47.26 MB)\n",
              "</pre>\n"
            ]
          },
          "metadata": {}
        },
        {
          "output_type": "display_data",
          "data": {
            "text/plain": [
              "\u001b[1m Trainable params: \u001b[0m\u001b[38;5;34m4,130,012\u001b[0m (15.75 MB)\n"
            ],
            "text/html": [
              "<pre style=\"white-space:pre;overflow-x:auto;line-height:normal;font-family:Menlo,'DejaVu Sans Mono',consolas,'Courier New',monospace\"><span style=\"font-weight: bold\"> Trainable params: </span><span style=\"color: #00af00; text-decoration-color: #00af00\">4,130,012</span> (15.75 MB)\n",
              "</pre>\n"
            ]
          },
          "metadata": {}
        },
        {
          "output_type": "display_data",
          "data": {
            "text/plain": [
              "\u001b[1m Non-trainable params: \u001b[0m\u001b[38;5;34m0\u001b[0m (0.00 B)\n"
            ],
            "text/html": [
              "<pre style=\"white-space:pre;overflow-x:auto;line-height:normal;font-family:Menlo,'DejaVu Sans Mono',consolas,'Courier New',monospace\"><span style=\"font-weight: bold\"> Non-trainable params: </span><span style=\"color: #00af00; text-decoration-color: #00af00\">0</span> (0.00 B)\n",
              "</pre>\n"
            ]
          },
          "metadata": {}
        },
        {
          "output_type": "display_data",
          "data": {
            "text/plain": [
              "\u001b[1m Optimizer params: \u001b[0m\u001b[38;5;34m8,260,026\u001b[0m (31.51 MB)\n"
            ],
            "text/html": [
              "<pre style=\"white-space:pre;overflow-x:auto;line-height:normal;font-family:Menlo,'DejaVu Sans Mono',consolas,'Courier New',monospace\"><span style=\"font-weight: bold\"> Optimizer params: </span><span style=\"color: #00af00; text-decoration-color: #00af00\">8,260,026</span> (31.51 MB)\n",
              "</pre>\n"
            ]
          },
          "metadata": {}
        }
      ],
      "source": [
        "model.summary()"
      ]
    },
    {
      "cell_type": "markdown",
      "metadata": {
        "id": "-bKGG3aswLSR"
      },
      "source": [
        "# Train LSTM Model"
      ]
    },
    {
      "cell_type": "code",
      "execution_count": null,
      "metadata": {
        "colab": {
          "base_uri": "https://localhost:8080/"
        },
        "id": "wTkmKJ3oUaPz",
        "outputId": "b08a0ec7-a019-4d19-b948-ddafb12072e9"
      },
      "outputs": [
        {
          "output_type": "stream",
          "name": "stdout",
          "text": [
            "Epoch 1/15\n",
            "\u001b[1m1015/1015\u001b[0m \u001b[32m━━━━━━━━━━━━━━━━━━━━\u001b[0m\u001b[37m\u001b[0m \u001b[1m283s\u001b[0m 275ms/step - accuracy: 0.0649 - loss: 6.2948 - val_accuracy: 0.1241 - val_loss: 5.7163\n",
            "Epoch 2/15\n",
            "\u001b[1m1015/1015\u001b[0m \u001b[32m━━━━━━━━━━━━━━━━━━━━\u001b[0m\u001b[37m\u001b[0m \u001b[1m275s\u001b[0m 271ms/step - accuracy: 0.1183 - loss: 5.4738 - val_accuracy: 0.1300 - val_loss: 5.6218\n",
            "Epoch 3/15\n",
            "\u001b[1m1015/1015\u001b[0m \u001b[32m━━━━━━━━━━━━━━━━━━━━\u001b[0m\u001b[37m\u001b[0m \u001b[1m277s\u001b[0m 272ms/step - accuracy: 0.1495 - loss: 4.9720 - val_accuracy: 0.1101 - val_loss: 5.6596\n",
            "Epoch 4/15\n",
            "\u001b[1m1015/1015\u001b[0m \u001b[32m━━━━━━━━━━━━━━━━━━━━\u001b[0m\u001b[37m\u001b[0m \u001b[1m321s\u001b[0m 272ms/step - accuracy: 0.1728 - loss: 4.5836 - val_accuracy: 0.1159 - val_loss: 5.8311\n",
            "Epoch 5/15\n",
            "\u001b[1m1015/1015\u001b[0m \u001b[32m━━━━━━━━━━━━━━━━━━━━\u001b[0m\u001b[37m\u001b[0m \u001b[1m276s\u001b[0m 271ms/step - accuracy: 0.2034 - loss: 4.1878 - val_accuracy: 0.1124 - val_loss: 5.9441\n",
            "Epoch 6/15\n",
            "\u001b[1m1015/1015\u001b[0m \u001b[32m━━━━━━━━━━━━━━━━━━━━\u001b[0m\u001b[37m\u001b[0m \u001b[1m275s\u001b[0m 271ms/step - accuracy: 0.2329 - loss: 3.8421 - val_accuracy: 0.1183 - val_loss: 6.1036\n",
            "Epoch 7/15\n",
            "\u001b[1m1015/1015\u001b[0m \u001b[32m━━━━━━━━━━━━━━━━━━━━\u001b[0m\u001b[37m\u001b[0m \u001b[1m320s\u001b[0m 269ms/step - accuracy: 0.2587 - loss: 3.5589 - val_accuracy: 0.1101 - val_loss: 6.2851\n",
            "Epoch 8/15\n",
            "\u001b[1m1015/1015\u001b[0m \u001b[32m━━━━━━━━━━━━━━━━━━━━\u001b[0m\u001b[37m\u001b[0m \u001b[1m323s\u001b[0m 271ms/step - accuracy: 0.2900 - loss: 3.3198 - val_accuracy: 0.1089 - val_loss: 6.4263\n",
            "Epoch 9/15\n",
            "\u001b[1m1015/1015\u001b[0m \u001b[32m━━━━━━━━━━━━━━━━━━━━\u001b[0m\u001b[37m\u001b[0m \u001b[1m340s\u001b[0m 289ms/step - accuracy: 0.3137 - loss: 3.1408 - val_accuracy: 0.1276 - val_loss: 6.5957\n",
            "Epoch 10/15\n",
            "\u001b[1m1015/1015\u001b[0m \u001b[32m━━━━━━━━━━━━━━━━━━━━\u001b[0m\u001b[37m\u001b[0m \u001b[1m287s\u001b[0m 282ms/step - accuracy: 0.3262 - loss: 3.0290 - val_accuracy: 0.0995 - val_loss: 6.7733\n",
            "Epoch 11/15\n",
            "\u001b[1m1015/1015\u001b[0m \u001b[32m━━━━━━━━━━━━━━━━━━━━\u001b[0m\u001b[37m\u001b[0m \u001b[1m334s\u001b[0m 294ms/step - accuracy: 0.3499 - loss: 2.8594 - val_accuracy: 0.1066 - val_loss: 6.8643\n",
            "Epoch 12/15\n",
            "\u001b[1m1015/1015\u001b[0m \u001b[32m━━━━━━━━━━━━━━━━━━━━\u001b[0m\u001b[37m\u001b[0m \u001b[1m313s\u001b[0m 285ms/step - accuracy: 0.3645 - loss: 2.7652 - val_accuracy: 0.1159 - val_loss: 6.9884\n",
            "Epoch 13/15\n",
            "\u001b[1m1015/1015\u001b[0m \u001b[32m━━━━━━━━━━━━━━━━━━━━\u001b[0m\u001b[37m\u001b[0m \u001b[1m321s\u001b[0m 285ms/step - accuracy: 0.3779 - loss: 2.6563 - val_accuracy: 0.1089 - val_loss: 7.1460\n",
            "Epoch 14/15\n",
            "\u001b[1m1015/1015\u001b[0m \u001b[32m━━━━━━━━━━━━━━━━━━━━\u001b[0m\u001b[37m\u001b[0m \u001b[1m323s\u001b[0m 286ms/step - accuracy: 0.3922 - loss: 2.6153 - val_accuracy: 0.1171 - val_loss: 7.1877\n",
            "Epoch 15/15\n",
            "\u001b[1m1015/1015\u001b[0m \u001b[32m━━━━━━━━━━━━━━━━━━━━\u001b[0m\u001b[37m\u001b[0m \u001b[1m319s\u001b[0m 283ms/step - accuracy: 0.3982 - loss: 2.5444 - val_accuracy: 0.1042 - val_loss: 7.3764\n"
          ]
        }
      ],
      "source": [
        "# Train the model for more epochs with early stopping\n",
        "history = model.fit(X_train_temp, y_train_temp, epochs=15,\n",
        "                    validation_data=(X_val, y_val),\n",
        "                    verbose=1)"
      ]
    },
    {
      "cell_type": "markdown",
      "metadata": {
        "id": "TO71Q-oIPotA"
      },
      "source": [
        "## Evaluate the Model"
      ]
    },
    {
      "cell_type": "code",
      "execution_count": null,
      "metadata": {
        "colab": {
          "base_uri": "https://localhost:8080/"
        },
        "id": "mCHHulYKQA52",
        "outputId": "acb06355-e789-47fd-8868-e678b7059956"
      },
      "outputs": [
        {
          "output_type": "stream",
          "name": "stdout",
          "text": [
            "Accuracy: 0.1077\n",
            "Precision: 0.0847\n",
            "Recall: 0.1077\n"
          ]
        },
        {
          "output_type": "stream",
          "name": "stderr",
          "text": [
            "/usr/local/lib/python3.10/dist-packages/sklearn/metrics/_classification.py:1531: UndefinedMetricWarning: Precision is ill-defined and being set to 0.0 in labels with no predicted samples. Use `zero_division` parameter to control this behavior.\n",
            "  _warn_prf(average, modifier, f\"{metric.capitalize()} is\", len(result))\n",
            "/usr/local/lib/python3.10/dist-packages/sklearn/metrics/_classification.py:1531: UndefinedMetricWarning: Recall is ill-defined and being set to 0.0 in labels with no true samples. Use `zero_division` parameter to control this behavior.\n",
            "  _warn_prf(average, modifier, f\"{metric.capitalize()} is\", len(result))\n"
          ]
        }
      ],
      "source": [
        "from sklearn.metrics import accuracy_score, precision_score, recall_score\n",
        "\n",
        "# Predictions on the Test Set\n",
        "y_pred_probs = model.predict(X_test, verbose=0)  # Get predicted probabilities\n",
        "y_pred = np.argmax(y_pred_probs, axis=1)  # Get predicted class labels\n",
        "\n",
        "# True Labels\n",
        "y_true = np.argmax(y_test, axis=1)  # Get true class labels\n",
        "\n",
        "# Calculate Metrics\n",
        "accuracy = accuracy_score(y_true, y_pred)\n",
        "precision = precision_score(y_true, y_pred, average='weighted')  # Use 'weighted' for multi-class\n",
        "recall = recall_score(y_true, y_pred, average='weighted')  # Use 'weighted' for multi-class\n",
        "\n",
        "print(f\"Accuracy: {accuracy:.4f}\")\n",
        "print(f\"Precision: {precision:.4f}\")\n",
        "print(f\"Recall: {recall:.4f}\")"
      ]
    },
    {
      "cell_type": "code",
      "source": [
        "from sklearn.metrics import accuracy_score, precision_score, recall_score\n",
        "\n",
        "def calculate_metrics_top_five(model, tokenizer, X_test, y_test):\n",
        "    \"\"\"\n",
        "    Calculates accuracy, precision, and recall based on top-five predictions.\n",
        "\n",
        "    Args:\n",
        "        model: The trained model.\n",
        "        tokenizer: The tokenizer used for text processing.\n",
        "        X_test: The test data.\n",
        "        y_test: The true labels for the test data.\n",
        "\n",
        "    Returns:\n",
        "        accuracy, precision, recall: The calculated metrics.\n",
        "    \"\"\"\n",
        "    y_true = np.argmax(y_test, axis=1)  # Get true class labels\n",
        "    correct_predictions = 0\n",
        "    total_predictions = len(y_true)\n",
        "    true_positives = 0\n",
        "    false_positives = 0\n",
        "    false_negatives = 0\n",
        "\n",
        "    for i in range(total_predictions):\n",
        "        seed_text_tokens = X_test[i]  # Get the input tokens for the current sample\n",
        "        seed_text = tokenizer.sequences_to_texts([seed_text_tokens])[0]  # Convert tokens back to text\n",
        "\n",
        "        top_five_words = predict_top_five_words(model, tokenizer, seed_text)  # Get top-five predictions\n",
        "        top_five_indexes = [tokenizer.word_index[word] for word in top_five_words]  # Get indexes of top-five words\n",
        "\n",
        "        if y_true[i] in top_five_indexes:\n",
        "            correct_predictions += 1\n",
        "            true_positives += 1\n",
        "        else:\n",
        "            false_negatives += 1\n",
        "            false_positives += len(top_five_indexes)  # Count all top-five predictions as false positives if none are correct\n",
        "\n",
        "\n",
        "    accuracy = correct_predictions / total_predictions\n",
        "    precision = true_positives / (true_positives + false_positives) if (true_positives + false_positives) > 0 else 0  # Avoid division by zero\n",
        "    recall = true_positives / (true_positives + false_negatives) if (true_positives + false_negatives) > 0 else 0  # Avoid division by zero\n",
        "\n",
        "    return accuracy, precision, recall\n",
        "\n",
        "# Calculate metrics using the new function\n",
        "accuracy, precision, recall = calculate_metrics_top_five(model, tokenizer, X_test, y_test)\n",
        "\n",
        "print(f\"Accuracy: {accuracy:.4f}\")\n",
        "print(f\"Precision: {precision:.4f}\")\n",
        "print(f\"Recall: {recall:.4f}\")"
      ],
      "metadata": {
        "colab": {
          "base_uri": "https://localhost:8080/"
        },
        "id": "p0eM5OGy33vT",
        "outputId": "663b7933-1ccf-4704-a428-5dfd2e9b61b2"
      },
      "execution_count": null,
      "outputs": [
        {
          "output_type": "stream",
          "name": "stdout",
          "text": [
            "Accuracy: 0.2295\n",
            "Precision: 0.0562\n",
            "Recall: 0.2295\n"
          ]
        }
      ]
    },
    {
      "cell_type": "markdown",
      "source": [
        "##Print some pridections"
      ],
      "metadata": {
        "id": "DNvo-0TuQzCs"
      }
    },
    {
      "cell_type": "code",
      "execution_count": null,
      "metadata": {
        "id": "nxxFLnBOwLSV"
      },
      "outputs": [],
      "source": [
        "from IPython.display import HTML, display\n",
        "\n",
        "def predict_top_five_words(model, tokenizer, seed_text):\n",
        "    token_list = tokenizer.texts_to_sequences([seed_text])[0]\n",
        "    token_list = pad_sequences([token_list], maxlen=max_sequence_len-1, padding='pre')\n",
        "    predicted = model.predict(token_list, verbose=0)\n",
        "    top_five_indexes = np.argsort(predicted[0])[::-1][:5]\n",
        "    top_five_words = []\n",
        "    for index in top_five_indexes:\n",
        "        for word, idx in tokenizer.word_index.items():\n",
        "            if idx == index:\n",
        "                top_five_words.append(word)\n",
        "                break\n",
        "    return top_five_words\n",
        "\n",
        "def predict_and_display_top_five_words2(seed_text, model, tokenizer):\n",
        "    top_five_words = predict_top_five_words(model, tokenizer, seed_text)\n",
        "    heading_app = f\"<h1>Sentence AutoCompletion With Top Five Outputs</h1>\"\n",
        "    output_text = f\"<ul>{''.join([f'<li>{seed_text} {word}</li>' for word in top_five_words])}</ul>\"\n",
        "    display(HTML(f'{heading_app} <br> <hr> {output_text}'))  # Display the output using display(HTML())\n",
        "\n",
        "\n"
      ]
    },
    {
      "cell_type": "code",
      "execution_count": null,
      "metadata": {
        "colab": {
          "base_uri": "https://localhost:8080/",
          "height": 200
        },
        "id": "FBuvPbjiwLSV",
        "outputId": "8af273d8-c7ff-4138-ea5d-22f1575e834f"
      },
      "outputs": [
        {
          "output_type": "display_data",
          "data": {
            "text/plain": [
              "<IPython.core.display.HTML object>"
            ],
            "text/html": [
              "<h1>Sentence AutoCompletion With Top Five Outputs</h1> <br> <hr> <ul><li>so much</li><li>so as</li><li>so the</li><li>so of</li><li>so and</li></ul>"
            ]
          },
          "metadata": {}
        }
      ],
      "source": [
        "# Test the function\n",
        "seed_text = \"so\"\n",
        "predict_and_display_top_five_words2(seed_text, model, tokenizer)"
      ]
    },
    {
      "cell_type": "code",
      "execution_count": null,
      "metadata": {
        "colab": {
          "base_uri": "https://localhost:8080/",
          "height": 200
        },
        "id": "4yv16fk1wLSW",
        "outputId": "7cfc356e-d3d1-428c-be05-17c05b176e17"
      },
      "outputs": [
        {
          "output_type": "display_data",
          "data": {
            "text/plain": [
              "<IPython.core.display.HTML object>"
            ],
            "text/html": [
              "<h1>Sentence AutoCompletion With Top Five Outputs</h1> <br> <hr> <ul><li>I have no</li><li>I have a</li><li>I have heard</li><li>I have the</li><li>I have i</li></ul>"
            ]
          },
          "metadata": {}
        }
      ],
      "source": [
        "# Test 2:\n",
        "# Test the function\n",
        "seed_text = \"I have\"\n",
        "predict_and_display_top_five_words2(seed_text, model, tokenizer)"
      ]
    },
    {
      "cell_type": "code",
      "execution_count": null,
      "metadata": {
        "colab": {
          "base_uri": "https://localhost:8080/",
          "height": 200
        },
        "id": "o9qXcNGZwLSW",
        "outputId": "53c7f48d-d4aa-40e2-f8c7-2b8966102f41"
      },
      "outputs": [
        {
          "output_type": "display_data",
          "data": {
            "text/plain": [
              "<IPython.core.display.HTML object>"
            ],
            "text/html": [
              "<h1>Sentence AutoCompletion With Top Five Outputs</h1> <br> <hr> <ul><li>did you</li><li>did not</li><li>did he</li><li>did she</li><li>did the</li></ul>"
            ]
          },
          "metadata": {}
        }
      ],
      "source": [
        "# Test 3:\n",
        "# Test the function\n",
        "seed_text = \"did\"\n",
        "predict_and_display_top_five_words2(seed_text, model, tokenizer)"
      ]
    },
    {
      "cell_type": "code",
      "execution_count": null,
      "metadata": {
        "colab": {
          "base_uri": "https://localhost:8080/",
          "height": 200
        },
        "id": "A0zdsiKKwLSW",
        "outputId": "1a98c90f-f132-4ca1-c867-3c73a3eae0ca"
      },
      "outputs": [
        {
          "output_type": "display_data",
          "data": {
            "text/plain": [
              "<IPython.core.display.HTML object>"
            ],
            "text/html": [
              "<h1>Sentence AutoCompletion With Top Five Outputs</h1> <br> <hr> <ul><li>the fourth  of</li><li>the fourth  and</li><li>the fourth  either</li><li>the fourth  on</li><li>the fourth  in</li></ul>"
            ]
          },
          "metadata": {}
        }
      ],
      "source": [
        "# Test 3:\n",
        "seed_text = \"the fourth \"\n",
        "predict_and_display_top_five_words2(seed_text, model, tokenizer)"
      ]
    }
  ],
  "metadata": {
    "accelerator": "GPU",
    "colab": {
      "gpuType": "T4",
      "provenance": [],
      "include_colab_link": true
    },
    "kaggle": {
      "accelerator": "gpu",
      "dataSources": [
        {
          "datasetId": 4758440,
          "sourceId": 8065627,
          "sourceType": "datasetVersion"
        },
        {
          "datasetId": 4758543,
          "sourceId": 8065761,
          "sourceType": "datasetVersion"
        },
        {
          "datasetId": 4759977,
          "sourceId": 8067728,
          "sourceType": "datasetVersion"
        }
      ],
      "dockerImageVersionId": 30674,
      "isGpuEnabled": true,
      "isInternetEnabled": true,
      "language": "python",
      "sourceType": "notebook"
    },
    "kernelspec": {
      "display_name": "Python 3",
      "name": "python3"
    },
    "language_info": {
      "codemirror_mode": {
        "name": "ipython",
        "version": 3
      },
      "file_extension": ".py",
      "mimetype": "text/x-python",
      "name": "python",
      "nbconvert_exporter": "python",
      "pygments_lexer": "ipython3",
      "version": "3.9.12"
    }
  },
  "nbformat": 4,
  "nbformat_minor": 0
}