{
 "cells": [
  {
   "cell_type": "markdown",
   "metadata": {},
   "source": [
    "<h1 style=\"border: 2px solid aqua; border-radius: 8px; text-align: center; padding: 8px;\">Mathematics for Machine Learning 2: TP 01 </h1>\n"
   ]
  },
  {
   "cell_type": "code",
   "execution_count": 15,
   "metadata": {},
   "outputs": [],
   "source": [
    "import numpy as np"
   ]
  },
  {
   "cell_type": "code",
   "execution_count": 16,
   "metadata": {},
   "outputs": [],
   "source": [
    "def qr_decomposition(A):\n",
    "    m, n = A.shape\n",
    "    Q = np.zeros((m, n))\n",
    "    R = np.zeros((n, n))\n",
    "\n",
    "    for j in range(n):\n",
    "        v = A[:, j].astype(float)\n",
    "        for i in range(j):\n",
    "            R[i, j] = np.dot(Q[:, i], A[:, j])\n",
    "            v -= R[i, j] * Q[:, i]\n",
    "        R[j, j] = np.sqrt(np.sum(v**2))\n",
    "        Q[:, j] = v / R[j, j]\n",
    "\n",
    "    return Q, R"
   ]
  },
  {
   "cell_type": "code",
   "execution_count": 17,
   "metadata": {},
   "outputs": [],
   "source": [
    "# A = np.array([[1, 2, 3], [4, 5, 6], [7, 8, 9]])\n",
    "# A = np.array([[1, 0, 0], [0, 2, 0], [0, 0, 3]])\n",
    "# A = np.array([[2, 1], [1, 2]])\n",
    "# A = np.array([[4, 3], [2, 1]])\n",
    "A = np.array(\n",
    "    [\n",
    "        [2, 0, 1, 2, 0],\n",
    "        [2, -1, 0, 1, 1],\n",
    "        [0, 1, 2, 1, 2],\n",
    "        [-2, 0, 2, -1, 2],\n",
    "        [2, 0, 0, 1, 1],\n",
    "    ]\n",
    ")"
   ]
  },
  {
   "cell_type": "markdown",
   "metadata": {},
   "source": [
    "**1| Determinant**\n"
   ]
  },
  {
   "cell_type": "code",
   "execution_count": 18,
   "metadata": {},
   "outputs": [],
   "source": [
    "def determinant(matrix):\n",
    "    if matrix.shape[0] != matrix.shape[1]:\n",
    "        raise ValueError(\"Matrix must be square to calculate the determinant.\")\n",
    "\n",
    "    if matrix.shape[0] == 2:\n",
    "        return matrix[0, 0] * matrix[1, 1] - matrix[0, 1] * matrix[1, 0]\n",
    "    else:\n",
    "        result = 0\n",
    "        for col in range(matrix.shape[1]):\n",
    "            submatrix = np.delete(matrix, 0, axis=0)\n",
    "            submatrix = np.delete(submatrix, col, axis=1)\n",
    "            result += (-1) ** (col) * matrix[0, col] * determinant(submatrix)\n",
    "\n",
    "        return result"
   ]
  },
  {
   "cell_type": "markdown",
   "metadata": {},
   "source": [
    "Example:\n"
   ]
  },
  {
   "cell_type": "code",
   "execution_count": 19,
   "metadata": {},
   "outputs": [
    {
     "name": "stdout",
     "output_type": "stream",
     "text": [
      "numpy builtin function (np.linalg):  6.000000000000003\n",
      "determinant():  6\n"
     ]
    }
   ],
   "source": [
    "print(\"numpy builtin function (np.linalg): \", np.linalg.det(A))\n",
    "print(\"determinant(): \", determinant(A))"
   ]
  },
  {
   "cell_type": "markdown",
   "metadata": {},
   "source": [
    "**2| Trace**\n"
   ]
  },
  {
   "cell_type": "code",
   "execution_count": 20,
   "metadata": {},
   "outputs": [],
   "source": [
    "def trace(matrix):\n",
    "    if matrix.shape[0] != matrix.shape[1]:\n",
    "        raise ValueError(\"Matrix must be square to calculate the trace.\")\n",
    "\n",
    "    return np.sum(np.multiply(matrix, np.identity(matrix.shape[0])))"
   ]
  },
  {
   "cell_type": "markdown",
   "metadata": {},
   "source": [
    "Example:\n"
   ]
  },
  {
   "cell_type": "code",
   "execution_count": 21,
   "metadata": {},
   "outputs": [
    {
     "name": "stdout",
     "output_type": "stream",
     "text": [
      "numpy builtin function (np.trace):  3\n",
      "trace():  3.0\n"
     ]
    }
   ],
   "source": [
    "print(\"numpy builtin function (np.trace): \", np.trace(A))\n",
    "print(\"trace(): \", trace(A))"
   ]
  },
  {
   "cell_type": "markdown",
   "metadata": {},
   "source": [
    "**3| Eigenvalues**\n"
   ]
  },
  {
   "cell_type": "code",
   "execution_count": 22,
   "metadata": {},
   "outputs": [],
   "source": [
    "def eigenvalues(A, iterations=100):\n",
    "    m = A.shape[0]\n",
    "    for _ in range(iterations):\n",
    "        Q, R = qr_decomposition(A)\n",
    "        A = np.dot(R, Q)\n",
    "\n",
    "    eigenvalues = np.zeros(m)\n",
    "    for i in range(m):\n",
    "        eigenvalues[i] = A[i, i]\n",
    "\n",
    "    return eigenvalues"
   ]
  },
  {
   "cell_type": "markdown",
   "metadata": {},
   "source": [
    "Example:\n"
   ]
  },
  {
   "cell_type": "code",
   "execution_count": 23,
   "metadata": {},
   "outputs": [
    {
     "name": "stdout",
     "output_type": "stream",
     "text": [
      "Eigenvalues:\n",
      "NumPy's eig(): [ 4.07509577+0.j          0.17549329+1.85061442j  0.17549329-1.85061442j\n",
      " -0.42608234+0.j         -1.        +0.j        ]\n",
      "Custom function: [ 4.07509577  0.85371082 -0.50272425 -1.         -0.42608234]\n"
     ]
    }
   ],
   "source": [
    "print(\"Eigenvalues:\")\n",
    "print(\"NumPy's eig():\", np.linalg.eig(A)[0])\n",
    "print(\"Custom function:\", eigenvalues(A))"
   ]
  },
  {
   "cell_type": "markdown",
   "metadata": {},
   "source": [
    "**4| Eigenvectors**\n"
   ]
  },
  {
   "cell_type": "code",
   "execution_count": 24,
   "metadata": {},
   "outputs": [],
   "source": [
    "def eigenvectors(A, max_iterations=100):\n",
    "    m = A.shape[0]\n",
    "    I = np.eye(m)\n",
    "    for _ in range(max_iterations):\n",
    "        Q, R = qr_decomposition(A)\n",
    "        A = np.dot(R, Q)\n",
    "\n",
    "    eigenvectors = np.zeros((m, m))\n",
    "    for i in range(m):\n",
    "        b = I[:, i]\n",
    "        x = b.copy()\n",
    "        for j in range(m - 1, -1, -1):\n",
    "            x[j] = (b[j] - np.dot(A[j, j + 1 :], x[j + 1 :])) / A[j, j]\n",
    "\n",
    "        eigenvectors[:, i] = x / np.sqrt(np.sum(x**2))\n",
    "\n",
    "    return eigenvectors"
   ]
  },
  {
   "cell_type": "markdown",
   "metadata": {},
   "source": [
    "Example:\n"
   ]
  },
  {
   "cell_type": "code",
   "execution_count": 25,
   "metadata": {},
   "outputs": [
    {
     "name": "stdout",
     "output_type": "stream",
     "text": [
      "Eigenvectors:\n",
      " [[ 1.          0.13057243 -0.22016602 -0.21042543 -0.18462483]\n",
      " [ 0.          0.99143877 -0.78096318 -0.73475422 -0.7814993 ]\n",
      " [-0.         -0.         -0.58448562 -0.6283446  -0.58697967]\n",
      " [-0.         -0.         -0.         -0.14505323 -0.06747288]\n",
      " [-0.         -0.         -0.         -0.         -0.07794095]]\n"
     ]
    }
   ],
   "source": [
    "print(\"Eigenvectors:\\n\", eigenvectors(A))"
   ]
  },
  {
   "cell_type": "markdown",
   "metadata": {},
   "source": [
    "**4| Invertibility**\n"
   ]
  },
  {
   "cell_type": "code",
   "execution_count": 26,
   "metadata": {},
   "outputs": [],
   "source": [
    "def invertibility(A):\n",
    "    if A.shape[0] != A.shape[1]:\n",
    "        return False\n",
    "\n",
    "    return determinant(A) != 0"
   ]
  },
  {
   "cell_type": "markdown",
   "metadata": {},
   "source": [
    "Example:\n"
   ]
  },
  {
   "cell_type": "code",
   "execution_count": 27,
   "metadata": {},
   "outputs": [
    {
     "name": "stdout",
     "output_type": "stream",
     "text": [
      "Invertibility: True\n"
     ]
    }
   ],
   "source": [
    "print(\"Invertibility:\", invertibility(A))"
   ]
  },
  {
   "cell_type": "markdown",
   "metadata": {},
   "source": [
    "**5 |Diagonalizability**\n"
   ]
  },
  {
   "attachments": {
    "image.png": {
     "image/png": "[encoded data removed]"
    }
   },
   "cell_type": "markdown",
   "metadata": {},
   "source": [
    "![image.png](attachment:image.png)"
   ]
  },
  {
   "cell_type": "code",
   "execution_count": 48,
   "metadata": {},
   "outputs": [],
   "source": [
    "def diagonalizability(A):\n",
    "    eigenvecs = eigenvectors(A)\n",
    "    return invertibility(eigenvecs)"
   ]
  },
  {
   "cell_type": "markdown",
   "metadata": {},
   "source": [
    "Example:"
   ]
  },
  {
   "cell_type": "code",
   "execution_count": 49,
   "metadata": {},
   "outputs": [
    {
     "name": "stdout",
     "output_type": "stream",
     "text": [
      "diagonalizability: True\n"
     ]
    }
   ],
   "source": [
    "print(\"diagonalizability:\", diagonalizability(A))"
   ]
  }
 ],
 "metadata": {
  "kernelspec": {
   "display_name": "base",
   "language": "python",
   "name": "python3"
  },
  "language_info": {
   "codemirror_mode": {
    "name": "ipython",
    "version": 3
   },
   "file_extension": ".py",
   "mimetype": "text/x-python",
   "name": "python",
   "nbconvert_exporter": "python",
   "pygments_lexer": "ipython3",
   "version": "3.11.5"
  }
 },
 "nbformat": 4,
 "nbformat_minor": 2
}
